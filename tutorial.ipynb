{
 "cells": [
  {
   "cell_type": "markdown",
   "id": "23d101d7-18dc-467a-b463-1429ee1cf630",
   "metadata": {},
   "source": [
    "# Generate and view birefringence skymaps"
   ]
  },
  {
   "cell_type": "markdown",
   "id": "1ec6e6a4-58c0-4906-a71c-43a030e8c604",
   "metadata": {},
   "source": [
    "First import `axion`. Then set model and numerical parameters. We want to generate an all-sky axion-string induced birefringence map using the \"loop crossing model\" approximation. The relevant command is `axion.lcm.generate_skymap()`. "
   ]
  },
  {
   "cell_type": "code",
   "execution_count": null,
   "id": "5d0ffc15-2170-4a56-93e5-bdd695e1c404",
   "metadata": {},
   "outputs": [],
   "source": [
    "import axion\n",
    "from axion.cosmology import hbarH0, H\n",
    "\n",
    "print(axion.lcm.generate_skymap.__doc__)"
   ]
  },
  {
   "cell_type": "markdown",
   "id": "205fdd7f-3b8d-4da1-94ef-0528924be577",
   "metadata": {},
   "source": [
    "This tells us that we must set `zeta0`, `xi0`, `anomaly`, and one of either `zf`, `ma`, or `log10ma`. "
   ]
  },
  {
   "cell_type": "code",
   "execution_count": null,
   "id": "38502eb3-60e4-40fc-b16e-63cb7b18c166",
   "metadata": {},
   "outputs": [],
   "source": [
    "lcm_params = dict(zeta0=1., xi0=1., anomaly=1., zf=0.) # zf = 0 is equivalent to ma = 3*hbarH0*H(0)\n",
    "# or equivalently\n",
    "lcm_params = dict(zeta0=1., xi0=1., anomaly=1., ma=3*hbarH0*H(0)) # here, hbarH0 is H0 in units of eV and H(z) is actually the Hubble parameter divided by H0.\n",
    "num_params = dict(nside=128, Nsteps=28, Nvertices=50, degrees=True)\n",
    "\n",
    "sky = axion.lcm.generate_skymap(**lcm_params, **num_params)"
   ]
  },
  {
   "cell_type": "markdown",
   "id": "1354fc71-c327-4c37-bf3b-7d4966e0d22a",
   "metadata": {},
   "source": [
    "To view  Mollweide projection of this we can do"
   ]
  },
  {
   "cell_type": "code",
   "execution_count": null,
   "id": "c0fdea8b-cd16-4477-9c36-eb857f06227c",
   "metadata": {},
   "outputs": [],
   "source": [
    "import healpy as hp\n",
    "\n",
    "hp.mollview(sky, cmap='planck') # cmap = 'planck' isn't available by default in healpy, I wrote a routine that adds it to the colormaps when you import axion."
   ]
  }
 ],
 "metadata": {
  "kernelspec": {
   "display_name": "Python 3 (ipykernel)",
   "language": "python",
   "name": "python3"
  },
  "language_info": {
   "codemirror_mode": {
    "name": "ipython",
    "version": 3
   },
   "file_extension": ".py",
   "mimetype": "text/x-python",
   "name": "python",
   "nbconvert_exporter": "python",
   "pygments_lexer": "ipython3",
   "version": "3.10.6"
  },
  "widgets": {
   "application/vnd.jupyter.widget-state+json": {
    "state": {},
    "version_major": 2,
    "version_minor": 0
   }
  }
 },
 "nbformat": 4,
 "nbformat_minor": 5
}
